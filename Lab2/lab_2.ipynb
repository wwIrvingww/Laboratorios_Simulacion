{
 "cells": [
  {
   "cell_type": "markdown",
   "id": "fc536064",
   "metadata": {},
   "source": [
    "# Ejercicio 1"
   ]
  },
  {
   "cell_type": "markdown",
   "id": "f1379c57",
   "metadata": {},
   "source": [
    "# Ejercicio 2"
   ]
  },
  {
   "cell_type": "markdown",
   "id": "3a3d8dce",
   "metadata": {},
   "source": [
    "# Ejercicio 3"
   ]
  },
  {
   "cell_type": "markdown",
   "id": "bb285d2d",
   "metadata": {},
   "source": [
    "# Ejercicio 4"
   ]
  },
  {
   "cell_type": "markdown",
   "id": "96792fb7",
   "metadata": {},
   "source": [
    "Implementar en Python los tres algoritmos vistos en clase para hallar los ceros de una función `f : [a, b] → ℝ`:\n",
    "\n",
    "- método de bisección  \n",
    "- método de la secante  \n",
    "- método de Newton‑Raphson  \n",
    "\n",
    "Como parámetros, sus algoritmos deben recibir la función `f`, la derivada `df` (en el caso de Newton), el intervalo `[a, b]` o el punto inicial de búsqueda `x0 ∈ ℝ`. Así como los criterios de paro `iter` y `tol > 0`.  \n",
    "\n",
    "Para la salida, sus funciones deben devolver la lista de aproximaciones realizadas y el valor de punto `x*` donde se encontró el cero.\n"
   ]
  },
  {
   "cell_type": "code",
   "execution_count": 1,
   "id": "3527ba77",
   "metadata": {},
   "outputs": [],
   "source": [
    "def metodo_biseccion(f, a, b, tol=1e-6, iter_max=100):\n",
    "    \"\"\"\n",
    "    Encuentra un cero de la función f en el intervalo [a, b] usando el método de bisección.\n",
    "    \n",
    "    Parámetros:\n",
    "    - f: función a la que se le busca el cero\n",
    "    - a, b: extremos del intervalo [a, b]\n",
    "    - tol: tolerancia para el criterio de parada\n",
    "    - iter_max: número máximo de iteraciones permitidas\n",
    "    \n",
    "    Retorna:\n",
    "    - aproximaciones: lista de aproximaciones generadas\n",
    "    - x: aproximación final del cero\n",
    "    \"\"\"\n",
    "    if f(a) * f(b) >= 0:\n",
    "        raise ValueError(\"La función debe cambiar de signo en el intervalo [a, b]\")\n",
    "    \n",
    "    aproximaciones = []\n",
    "    for _ in range(iter_max):\n",
    "        c = (a + b) / 2\n",
    "        aproximaciones.append(c)\n",
    "        \n",
    "        if abs(f(c)) < tol:\n",
    "            break\n",
    "            \n",
    "        if f(a) * f(c) < 0:\n",
    "            b = c\n",
    "        else:\n",
    "            a = c\n",
    "    \n",
    "    return aproximaciones, aproximaciones[-1]"
   ]
  },
  {
   "cell_type": "code",
   "execution_count": 3,
   "id": "939a57fd",
   "metadata": {},
   "outputs": [],
   "source": [
    "def metodo_secante(f, x0, x1, tol=1e-6, iter_max=100):\n",
    "    \"\"\"\n",
    "    Encuentra un cero de la función f usando el método de la secante.\n",
    "    \n",
    "    Parámetros:\n",
    "    - f: función a la que se le busca el cero\n",
    "    - x0, x1: aproximaciones iniciales\n",
    "    - tol: tolerancia para el criterio de parada\n",
    "    - iter_max: número máximo de iteraciones permitidas\n",
    "    \n",
    "    Retorna:\n",
    "    - aproximaciones: lista de aproximaciones generadas\n",
    "    - x: aproximación final del cero\n",
    "    \"\"\"\n",
    "    aproximaciones = [x0, x1]\n",
    "    \n",
    "    for _ in range(iter_max):\n",
    "        fx0 = f(x0)\n",
    "        fx1 = f(x1)\n",
    "        \n",
    "        if abs(fx1) < tol:\n",
    "            break\n",
    "            \n",
    "        x_next = x1 - fx1 * (x1 - x0) / (fx1 - fx0)\n",
    "        aproximaciones.append(x_next)\n",
    "        \n",
    "        x0, x1 = x1, x_next\n",
    "    \n",
    "    return aproximaciones, aproximaciones[-1]"
   ]
  },
  {
   "cell_type": "code",
   "execution_count": 4,
   "id": "a347e651",
   "metadata": {},
   "outputs": [],
   "source": [
    "def metodo_newton(f, df, x0, tol=1e-6, iter_max=100):\n",
    "    \"\"\"\n",
    "    Encuentra un cero de la función f usando el método de Newton-Raphson.\n",
    "    \n",
    "    Parámetros:\n",
    "    - f: función a la que se le busca el cero\n",
    "    - df: derivada de la función f\n",
    "    - x0: aproximación inicial\n",
    "    - tol: tolerancia para el criterio de parada\n",
    "    - iter_max: número máximo de iteraciones permitidas\n",
    "    \n",
    "    Retorna:\n",
    "    - aproximaciones: lista de aproximaciones generadas\n",
    "    - x: aproximación final del cero\n",
    "    \"\"\"\n",
    "    aproximaciones = [x0]\n",
    "    \n",
    "    for _ in range(iter_max):\n",
    "        fx = f(x0)\n",
    "        dfx = df(x0)\n",
    "        \n",
    "        if abs(fx) < tol:\n",
    "            break\n",
    "            \n",
    "        x_next = x0 - fx / dfx\n",
    "        aproximaciones.append(x_next)\n",
    "        \n",
    "        x0 = x_next\n",
    "    \n",
    "    return aproximaciones, aproximaciones[-1]"
   ]
  },
  {
   "cell_type": "markdown",
   "id": "322c9d2d",
   "metadata": {},
   "source": [
    "# Ejercicio 5"
   ]
  },
  {
   "cell_type": "markdown",
   "id": "5b1d259d",
   "metadata": {},
   "source": [
    "# Ejercicio 6"
   ]
  },
  {
   "cell_type": "markdown",
   "id": "4301480f",
   "metadata": {},
   "source": [
    "# Ejercicio 7"
   ]
  },
  {
   "cell_type": "markdown",
   "id": "872e8d4a",
   "metadata": {},
   "source": [
    "# Ejercicio 8"
   ]
  },
  {
   "cell_type": "code",
   "execution_count": 1,
   "id": "92afa9e6",
   "metadata": {},
   "outputs": [
    {
     "name": "stdout",
     "output_type": "stream",
     "text": [
      "Solución (7 decimales): [ 0.5        0.        -0.5235988]\n"
     ]
    }
   ],
   "source": [
    "import numpy as np\n",
    "\n",
    "def newton_multidimensional(F, J, x0, tol=1e-7, iter_max=50):\n",
    "    \"\"\"\n",
    "    Newton-Raphson para F: R^n -> R^n con Jacobiano J.\n",
    "    Devuelve la lista de aproximaciones y la solución final.\n",
    "    \"\"\"\n",
    "    aproximaciones = [x0.copy()]\n",
    "    x = x0.copy()\n",
    "    for k in range(iter_max):\n",
    "        Fx = F(x)\n",
    "        Jx = J(x)\n",
    "        # resolver J Δx = -F\n",
    "        delta = np.linalg.solve(Jx, -Fx)\n",
    "        x = x + delta\n",
    "        aproximaciones.append(x.copy())\n",
    "        if np.linalg.norm(delta, ord=2) < tol:\n",
    "            break\n",
    "    return aproximaciones, x\n",
    "\n",
    "# Definimos F y su Jacobiano J\n",
    "def F(u):\n",
    "    x, y, z = u\n",
    "    return np.array([\n",
    "        3*x - np.cos(y*z) - 0.5,\n",
    "        x**2 - 81*(y + 0.1)**2 + np.sin(z) + 1.06,\n",
    "        np.exp(-x*y) + 20*z + (10*np.pi - 3)/3\n",
    "    ])\n",
    "\n",
    "def J(u):\n",
    "    x, y, z = u\n",
    "    return np.array([\n",
    "        [ 3,\n",
    "          np.sin(y*z)*z,\n",
    "          np.sin(y*z)*y ],\n",
    "        [ 2*x,\n",
    "         -162*(y + 0.1),\n",
    "          np.cos(z) ],\n",
    "        [ -y*np.exp(-x*y),\n",
    "          -x*np.exp(-x*y),\n",
    "           20 ]\n",
    "    ])\n",
    "\n",
    "# Ejecutamos con un guess inicial razonable\n",
    "x0 = np.array([0.1, 0.1, 0.0])\n",
    "aprox_list, raiz = newton_multidimensional(F, J, x0)\n",
    "\n",
    "print(\"Solución (7 decimales):\", np.round(raiz, 7))\n"
   ]
  }
 ],
 "metadata": {
  "kernelspec": {
   "display_name": "Python 3",
   "language": "python",
   "name": "python3"
  },
  "language_info": {
   "codemirror_mode": {
    "name": "ipython",
    "version": 3
   },
   "file_extension": ".py",
   "mimetype": "text/x-python",
   "name": "python",
   "nbconvert_exporter": "python",
   "pygments_lexer": "ipython3",
   "version": "3.11.9"
  }
 },
 "nbformat": 4,
 "nbformat_minor": 5
}
