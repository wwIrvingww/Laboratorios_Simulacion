{
 "cells": [
  {
   "cell_type": "markdown",
   "id": "e60fc4ce",
   "metadata": {},
   "source": [
    "# Labotratorio 5\n",
    "- Irving Acosta 22781\n",
    "- Sebastián Huertas 22\n",
    "- Josué Marroquín 22"
   ]
  },
  {
   "cell_type": "markdown",
   "id": "c0cbe726",
   "metadata": {},
   "source": [
    "## Ejercicio 1"
   ]
  },
  {
   "cell_type": "markdown",
   "id": "ce56a7c6",
   "metadata": {},
   "source": [
    "## Ejercicio 2"
   ]
  },
  {
   "cell_type": "markdown",
   "id": "d880947f",
   "metadata": {},
   "source": [
    "## Ejercicio 3"
   ]
  },
  {
   "cell_type": "markdown",
   "id": "5074b747",
   "metadata": {},
   "source": [
    "## Ejercicio 4"
   ]
  },
  {
   "cell_type": "markdown",
   "id": "eebf57db",
   "metadata": {},
   "source": [
    "## Ejercicio 5"
   ]
  },
  {
   "cell_type": "markdown",
   "id": "e5a0ef20",
   "metadata": {},
   "source": [
    "p = "
   ]
  }
 ],
 "metadata": {
  "language_info": {
   "name": "python"
  }
 },
 "nbformat": 4,
 "nbformat_minor": 5
}
